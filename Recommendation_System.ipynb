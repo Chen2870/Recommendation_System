{
 "cells": [
  {
   "cell_type": "code",
   "execution_count": 1,
   "metadata": {},
   "outputs": [],
   "source": [
    "import csv"
   ]
  },
  {
   "cell_type": "code",
   "execution_count": 2,
   "metadata": {},
   "outputs": [],
   "source": [
    "import pandas as pd\n",
    "import numpy as np"
   ]
  },
  {
   "cell_type": "raw",
   "metadata": {},
   "source": [
    "# Set workin directory"
   ]
  },
  {
   "cell_type": "markdown",
   "metadata": {},
   "source": [
    "# Data Ingestion"
   ]
  },
  {
   "cell_type": "code",
   "execution_count": 5,
   "metadata": {},
   "outputs": [],
   "source": [
    "credit = pd.read_csv(\"tmdb_5000_credits.csv\")"
   ]
  },
  {
   "cell_type": "code",
   "execution_count": 6,
   "metadata": {},
   "outputs": [],
   "source": [
    "movies = pd.read_csv(\"tmdb_5000_movies.csv\")"
   ]
  },
  {
   "cell_type": "code",
   "execution_count": 7,
   "metadata": {},
   "outputs": [
    {
     "data": {
      "text/html": [
       "<div>\n",
       "<style scoped>\n",
       "    .dataframe tbody tr th:only-of-type {\n",
       "        vertical-align: middle;\n",
       "    }\n",
       "\n",
       "    .dataframe tbody tr th {\n",
       "        vertical-align: top;\n",
       "    }\n",
       "\n",
       "    .dataframe thead th {\n",
       "        text-align: right;\n",
       "    }\n",
       "</style>\n",
       "<table border=\"1\" class=\"dataframe\">\n",
       "  <thead>\n",
       "    <tr style=\"text-align: right;\">\n",
       "      <th></th>\n",
       "      <th>movie_id</th>\n",
       "      <th>title</th>\n",
       "      <th>cast</th>\n",
       "      <th>crew</th>\n",
       "    </tr>\n",
       "  </thead>\n",
       "  <tbody>\n",
       "    <tr>\n",
       "      <th>0</th>\n",
       "      <td>19995</td>\n",
       "      <td>Avatar</td>\n",
       "      <td>[{\"cast_id\": 242, \"character\": \"Jake Sully\", \"...</td>\n",
       "      <td>[{\"credit_id\": \"52fe48009251416c750aca23\", \"de...</td>\n",
       "    </tr>\n",
       "    <tr>\n",
       "      <th>1</th>\n",
       "      <td>285</td>\n",
       "      <td>Pirates of the Caribbean: At World's End</td>\n",
       "      <td>[{\"cast_id\": 4, \"character\": \"Captain Jack Spa...</td>\n",
       "      <td>[{\"credit_id\": \"52fe4232c3a36847f800b579\", \"de...</td>\n",
       "    </tr>\n",
       "    <tr>\n",
       "      <th>2</th>\n",
       "      <td>206647</td>\n",
       "      <td>Spectre</td>\n",
       "      <td>[{\"cast_id\": 1, \"character\": \"James Bond\", \"cr...</td>\n",
       "      <td>[{\"credit_id\": \"54805967c3a36829b5002c41\", \"de...</td>\n",
       "    </tr>\n",
       "    <tr>\n",
       "      <th>3</th>\n",
       "      <td>49026</td>\n",
       "      <td>The Dark Knight Rises</td>\n",
       "      <td>[{\"cast_id\": 2, \"character\": \"Bruce Wayne / Ba...</td>\n",
       "      <td>[{\"credit_id\": \"52fe4781c3a36847f81398c3\", \"de...</td>\n",
       "    </tr>\n",
       "    <tr>\n",
       "      <th>4</th>\n",
       "      <td>49529</td>\n",
       "      <td>John Carter</td>\n",
       "      <td>[{\"cast_id\": 5, \"character\": \"John Carter\", \"c...</td>\n",
       "      <td>[{\"credit_id\": \"52fe479ac3a36847f813eaa3\", \"de...</td>\n",
       "    </tr>\n",
       "  </tbody>\n",
       "</table>\n",
       "</div>"
      ],
      "text/plain": [
       "   movie_id                                     title  \\\n",
       "0     19995                                    Avatar   \n",
       "1       285  Pirates of the Caribbean: At World's End   \n",
       "2    206647                                   Spectre   \n",
       "3     49026                     The Dark Knight Rises   \n",
       "4     49529                               John Carter   \n",
       "\n",
       "                                                cast  \\\n",
       "0  [{\"cast_id\": 242, \"character\": \"Jake Sully\", \"...   \n",
       "1  [{\"cast_id\": 4, \"character\": \"Captain Jack Spa...   \n",
       "2  [{\"cast_id\": 1, \"character\": \"James Bond\", \"cr...   \n",
       "3  [{\"cast_id\": 2, \"character\": \"Bruce Wayne / Ba...   \n",
       "4  [{\"cast_id\": 5, \"character\": \"John Carter\", \"c...   \n",
       "\n",
       "                                                crew  \n",
       "0  [{\"credit_id\": \"52fe48009251416c750aca23\", \"de...  \n",
       "1  [{\"credit_id\": \"52fe4232c3a36847f800b579\", \"de...  \n",
       "2  [{\"credit_id\": \"54805967c3a36829b5002c41\", \"de...  \n",
       "3  [{\"credit_id\": \"52fe4781c3a36847f81398c3\", \"de...  \n",
       "4  [{\"credit_id\": \"52fe479ac3a36847f813eaa3\", \"de...  "
      ]
     },
     "execution_count": 7,
     "metadata": {},
     "output_type": "execute_result"
    }
   ],
   "source": [
    "credit.head()"
   ]
  },
  {
   "cell_type": "code",
   "execution_count": 8,
   "metadata": {},
   "outputs": [
    {
     "data": {
      "text/plain": [
       "(4803, 20)"
      ]
     },
     "execution_count": 8,
     "metadata": {},
     "output_type": "execute_result"
    }
   ],
   "source": [
    "movies.shape"
   ]
  },
  {
   "cell_type": "markdown",
   "metadata": {},
   "source": [
    "# Data Processing Part 1"
   ]
  },
  {
   "cell_type": "code",
   "execution_count": 9,
   "metadata": {},
   "outputs": [],
   "source": [
    "#Import TfIdfVectorizer from scikit-learn\n",
    "from sklearn.feature_extraction.text import TfidfVectorizer\n",
    "from sklearn.feature_extraction.text import CountVectorizer"
   ]
  },
  {
   "cell_type": "code",
   "execution_count": 10,
   "metadata": {},
   "outputs": [],
   "source": [
    "from ast import literal_eval"
   ]
  },
  {
   "cell_type": "code",
   "execution_count": 11,
   "metadata": {},
   "outputs": [],
   "source": [
    "from sklearn.metrics.pairwise import cosine_similarity"
   ]
  },
  {
   "cell_type": "code",
   "execution_count": 12,
   "metadata": {},
   "outputs": [],
   "source": [
    "#get the whole dataset\n",
    "movies = movies.merge(credit,left_on=\"id\",right_on=\"movie_id\")"
   ]
  },
  {
   "cell_type": "code",
   "execution_count": 13,
   "metadata": {},
   "outputs": [],
   "source": [
    "#fill na on overview data\n",
    "movies['overview'] = movies['overview'].fillna('')"
   ]
  },
  {
   "cell_type": "code",
   "execution_count": 14,
   "metadata": {
    "scrolled": false
   },
   "outputs": [],
   "source": [
    "movies['cast'] = movies['cast'].apply(literal_eval)\n",
    "movies['crew'] = movies['crew'].apply(literal_eval)\n",
    "movies['keywords'] = movies['keywords'].apply(literal_eval)\n",
    "movies['genres'] = movies['genres'].apply(literal_eval)"
   ]
  },
  {
   "cell_type": "code",
   "execution_count": 15,
   "metadata": {},
   "outputs": [],
   "source": [
    "# feature engineering"
   ]
  },
  {
   "cell_type": "code",
   "execution_count": 16,
   "metadata": {},
   "outputs": [],
   "source": [
    "# get first three characters \n",
    "def flatten_char(mylist):\n",
    "    for i in mylist:\n",
    "        if isinstance(i,dict):\n",
    "            charlist = [i['character'] for i in mylist]\n",
    "            return \",\".join(str(i) for i in charlist[0:4])\n",
    "\n",
    "movies['major_cast'] = movies['cast'].apply(flatten_char)"
   ]
  },
  {
   "cell_type": "code",
   "execution_count": 17,
   "metadata": {},
   "outputs": [],
   "source": [
    "# get director director\n",
    "def get_director(x):\n",
    "    for i in x:\n",
    "        if i['job'].lower() == 'director':\n",
    "            return i['name']\n",
    "\n",
    "movies['director'] = movies['crew'].apply(get_director)"
   ]
  },
  {
   "cell_type": "code",
   "execution_count": 18,
   "metadata": {},
   "outputs": [],
   "source": [
    "# get keywords\n",
    "def flatten_key(mylist):\n",
    "    for i in mylist:\n",
    "        if isinstance(i,dict):\n",
    "            keylist = [i['name'] for i in mylist]\n",
    "            return \",\".join(str(i) for i in keylist)\n",
    "\n",
    "movies['keys_words'] = movies['keywords'].apply(flatten_key)"
   ]
  },
  {
   "cell_type": "code",
   "execution_count": 19,
   "metadata": {},
   "outputs": [],
   "source": [
    "# get genres\n",
    "def flatten_genres(mylist):\n",
    "    for i in mylist:\n",
    "        if isinstance(i,dict):\n",
    "            genreslist = [i['name'] for i in mylist]\n",
    "            return \",\".join(str(i) for i in genreslist)\n",
    "        \n",
    "movies['genres_list'] = movies['genres'].apply(flatten_genres)"
   ]
  },
  {
   "cell_type": "code",
   "execution_count": 20,
   "metadata": {},
   "outputs": [],
   "source": [
    "features = ['keys_words','genres_list','overview','popularity','major_cast','director','vote_average']"
   ]
  },
  {
   "cell_type": "markdown",
   "metadata": {},
   "source": [
    "# Recommendation System #1 - Content Based Filtering"
   ]
  },
  {
   "cell_type": "code",
   "execution_count": 21,
   "metadata": {},
   "outputs": [],
   "source": [
    "content_movie = pd.DataFrame()\n",
    "for i in features:\n",
    "    content_movie[i] = movies[i]"
   ]
  },
  {
   "cell_type": "code",
   "execution_count": 22,
   "metadata": {},
   "outputs": [],
   "source": [
    "content_movie['title'] = movies['original_title']"
   ]
  },
  {
   "cell_type": "code",
   "execution_count": 23,
   "metadata": {},
   "outputs": [],
   "source": [
    "# Define a TF-IDF Vectorizer Object. Remove all english stop words such as 'the', 'a'\n",
    "# tfidf = TfidfVectorizer(stop_words='english')\n",
    "# tfidf_matrix[i] = tfidf.fit_transform(content_movie)"
   ]
  },
  {
   "cell_type": "code",
   "execution_count": 24,
   "metadata": {},
   "outputs": [],
   "source": [
    "# create a column with all the words\n",
    "def word_list(x):\n",
    "    return ''.join(x['keys_words']) + ' '.join(x['major_cast']) + ' ' + x['director'] + ' '.join(x['genres_list'])"
   ]
  },
  {
   "cell_type": "code",
   "execution_count": 25,
   "metadata": {},
   "outputs": [],
   "source": [
    "#fillna with \" \"\n",
    "content_movie = content_movie.fillna(' ')"
   ]
  },
  {
   "cell_type": "code",
   "execution_count": 26,
   "metadata": {},
   "outputs": [],
   "source": [
    "content_movie['words'] = content_movie.apply(word_list,axis=1)"
   ]
  },
  {
   "cell_type": "code",
   "execution_count": 27,
   "metadata": {},
   "outputs": [],
   "source": [
    "vectorizer = CountVectorizer()\n",
    "count_matrix = vectorizer.fit_transform(content_movie['words'])"
   ]
  },
  {
   "cell_type": "code",
   "execution_count": 28,
   "metadata": {},
   "outputs": [],
   "source": [
    "cosine_sim = cosine_similarity(count_matrix, count_matrix)"
   ]
  },
  {
   "cell_type": "code",
   "execution_count": 29,
   "metadata": {},
   "outputs": [],
   "source": [
    "def content_based_filter(title,cosine_sim = cosine_sim):\n",
    "    # movie index in the database\n",
    "    i = int(content_movie[content_movie['title']==title].index.values)\n",
    "    sim_scores = sorted(list(enumerate(cosine_sim[i])),key=lambda x: x[1],reverse = True)\n",
    "    # get the first 10 scores\n",
    "    sim_scores = sim_scores[1:11]\n",
    "    recommend_i = [i[0] for i in sim_scores]\n",
    "    return content_movie['title'].iloc[recommend_i]\n",
    "    "
   ]
  },
  {
   "cell_type": "code",
   "execution_count": 30,
   "metadata": {},
   "outputs": [
    {
     "data": {
      "text/html": [
       "<div>\n",
       "<style scoped>\n",
       "    .dataframe tbody tr th:only-of-type {\n",
       "        vertical-align: middle;\n",
       "    }\n",
       "\n",
       "    .dataframe tbody tr th {\n",
       "        vertical-align: top;\n",
       "    }\n",
       "\n",
       "    .dataframe thead th {\n",
       "        text-align: right;\n",
       "    }\n",
       "</style>\n",
       "<table border=\"1\" class=\"dataframe\">\n",
       "  <thead>\n",
       "    <tr style=\"text-align: right;\">\n",
       "      <th></th>\n",
       "      <th>keys_words</th>\n",
       "      <th>genres_list</th>\n",
       "      <th>overview</th>\n",
       "      <th>popularity</th>\n",
       "      <th>major_cast</th>\n",
       "      <th>director</th>\n",
       "      <th>vote_average</th>\n",
       "      <th>title</th>\n",
       "      <th>words</th>\n",
       "    </tr>\n",
       "  </thead>\n",
       "  <tbody>\n",
       "    <tr>\n",
       "      <th>0</th>\n",
       "      <td>culture clash,future,space war,space colony,so...</td>\n",
       "      <td>Action,Adventure,Fantasy,Science Fiction</td>\n",
       "      <td>In the 22nd century, a paraplegic Marine is di...</td>\n",
       "      <td>150.437577</td>\n",
       "      <td>Jake Sully,Neytiri,Dr. Grace Augustine,Col. Qu...</td>\n",
       "      <td>James Cameron</td>\n",
       "      <td>7.2</td>\n",
       "      <td>Avatar</td>\n",
       "      <td>culture clash,future,space war,space colony,so...</td>\n",
       "    </tr>\n",
       "    <tr>\n",
       "      <th>1</th>\n",
       "      <td>ocean,drug abuse,exotic island,east india trad...</td>\n",
       "      <td>Adventure,Fantasy,Action</td>\n",
       "      <td>Captain Barbossa, long believed to be dead, ha...</td>\n",
       "      <td>139.082615</td>\n",
       "      <td>Captain Jack Sparrow,Will Turner,Elizabeth Swa...</td>\n",
       "      <td>Gore Verbinski</td>\n",
       "      <td>6.9</td>\n",
       "      <td>Pirates of the Caribbean: At World's End</td>\n",
       "      <td>ocean,drug abuse,exotic island,east india trad...</td>\n",
       "    </tr>\n",
       "    <tr>\n",
       "      <th>2</th>\n",
       "      <td>spy,based on novel,secret agent,sequel,mi6,bri...</td>\n",
       "      <td>Action,Adventure,Crime</td>\n",
       "      <td>A cryptic message from Bond’s past sends him o...</td>\n",
       "      <td>107.376788</td>\n",
       "      <td>James Bond,Blofeld,Madeleine,M</td>\n",
       "      <td>Sam Mendes</td>\n",
       "      <td>6.3</td>\n",
       "      <td>Spectre</td>\n",
       "      <td>spy,based on novel,secret agent,sequel,mi6,bri...</td>\n",
       "    </tr>\n",
       "    <tr>\n",
       "      <th>3</th>\n",
       "      <td>dc comics,crime fighter,terrorist,secret ident...</td>\n",
       "      <td>Action,Crime,Drama,Thriller</td>\n",
       "      <td>Following the death of District Attorney Harve...</td>\n",
       "      <td>112.312950</td>\n",
       "      <td>Bruce Wayne / Batman,Alfred Pennyworth,James G...</td>\n",
       "      <td>Christopher Nolan</td>\n",
       "      <td>7.6</td>\n",
       "      <td>The Dark Knight Rises</td>\n",
       "      <td>dc comics,crime fighter,terrorist,secret ident...</td>\n",
       "    </tr>\n",
       "    <tr>\n",
       "      <th>4</th>\n",
       "      <td>based on novel,mars,medallion,space travel,pri...</td>\n",
       "      <td>Action,Adventure,Science Fiction</td>\n",
       "      <td>John Carter is a war-weary, former military ca...</td>\n",
       "      <td>43.926995</td>\n",
       "      <td>John Carter,Dejah Thoris,Sola,Tars Tarkas</td>\n",
       "      <td>Andrew Stanton</td>\n",
       "      <td>6.1</td>\n",
       "      <td>John Carter</td>\n",
       "      <td>based on novel,mars,medallion,space travel,pri...</td>\n",
       "    </tr>\n",
       "  </tbody>\n",
       "</table>\n",
       "</div>"
      ],
      "text/plain": [
       "                                          keys_words  \\\n",
       "0  culture clash,future,space war,space colony,so...   \n",
       "1  ocean,drug abuse,exotic island,east india trad...   \n",
       "2  spy,based on novel,secret agent,sequel,mi6,bri...   \n",
       "3  dc comics,crime fighter,terrorist,secret ident...   \n",
       "4  based on novel,mars,medallion,space travel,pri...   \n",
       "\n",
       "                                genres_list  \\\n",
       "0  Action,Adventure,Fantasy,Science Fiction   \n",
       "1                  Adventure,Fantasy,Action   \n",
       "2                    Action,Adventure,Crime   \n",
       "3               Action,Crime,Drama,Thriller   \n",
       "4          Action,Adventure,Science Fiction   \n",
       "\n",
       "                                            overview  popularity  \\\n",
       "0  In the 22nd century, a paraplegic Marine is di...  150.437577   \n",
       "1  Captain Barbossa, long believed to be dead, ha...  139.082615   \n",
       "2  A cryptic message from Bond’s past sends him o...  107.376788   \n",
       "3  Following the death of District Attorney Harve...  112.312950   \n",
       "4  John Carter is a war-weary, former military ca...   43.926995   \n",
       "\n",
       "                                          major_cast           director  \\\n",
       "0  Jake Sully,Neytiri,Dr. Grace Augustine,Col. Qu...      James Cameron   \n",
       "1  Captain Jack Sparrow,Will Turner,Elizabeth Swa...     Gore Verbinski   \n",
       "2                     James Bond,Blofeld,Madeleine,M         Sam Mendes   \n",
       "3  Bruce Wayne / Batman,Alfred Pennyworth,James G...  Christopher Nolan   \n",
       "4          John Carter,Dejah Thoris,Sola,Tars Tarkas     Andrew Stanton   \n",
       "\n",
       "   vote_average                                     title  \\\n",
       "0           7.2                                    Avatar   \n",
       "1           6.9  Pirates of the Caribbean: At World's End   \n",
       "2           6.3                                   Spectre   \n",
       "3           7.6                     The Dark Knight Rises   \n",
       "4           6.1                               John Carter   \n",
       "\n",
       "                                               words  \n",
       "0  culture clash,future,space war,space colony,so...  \n",
       "1  ocean,drug abuse,exotic island,east india trad...  \n",
       "2  spy,based on novel,secret agent,sequel,mi6,bri...  \n",
       "3  dc comics,crime fighter,terrorist,secret ident...  \n",
       "4  based on novel,mars,medallion,space travel,pri...  "
      ]
     },
     "execution_count": 30,
     "metadata": {},
     "output_type": "execute_result"
    }
   ],
   "source": [
    "content_movie.head()"
   ]
  },
  {
   "cell_type": "code",
   "execution_count": 31,
   "metadata": {},
   "outputs": [
    {
     "data": {
      "text/plain": [
       "2674                                   Stomp the Yard\n",
       "448                                     Cold Mountain\n",
       "1408                                           Closer\n",
       "2731                           The Godfather: Part II\n",
       "784     In the Name of the King: A Dungeon Siege Tale\n",
       "1874                                      August Rush\n",
       "2476                                   White Oleander\n",
       "1900                      The Adventures of Pinocchio\n",
       "2989                                    Happy Gilmore\n",
       "119                                     Batman Begins\n",
       "Name: title, dtype: object"
      ]
     },
     "execution_count": 31,
     "metadata": {},
     "output_type": "execute_result"
    }
   ],
   "source": [
    "content_based_filter('The Godfather')"
   ]
  },
  {
   "cell_type": "markdown",
   "metadata": {},
   "source": [
    "# Recommendation Sytem - Popularity (Demographic) Filtering"
   ]
  },
  {
   "cell_type": "markdown",
   "metadata": {},
   "source": [
    "In this popularity part, we will provide the top ten most popular movies to the users who are new to the website. Since we don't have any information about those users' interests, we will provide them the most popular movies alternatively.\n",
    "    \n",
    "The following script is educated by: https://www.kaggle.com/ibtesama/getting-started-with-a-movie-recommendation-system/data"
   ]
  },
  {
   "cell_type": "markdown",
   "metadata": {},
   "source": [
    "In Deomographic-filtering recommendation system we will use the following forumula to calculate the weighted rating:\n",
    "    \n",
    "    wr = (v/(v+m) * R) + (m/(m+v) * C)\n",
    "where:\n",
    "* v is the number of votes for the movie;\n",
    "* m is the minimum votes required to be listed in the chart;\n",
    "* R is the average rating of the movie; And\n",
    "* C is the mean vote across the whole report\n"
   ]
  },
  {
   "cell_type": "code",
   "execution_count": 32,
   "metadata": {},
   "outputs": [
    {
     "data": {
      "text/plain": [
       "Index(['budget', 'genres', 'homepage', 'id', 'keywords', 'original_language',\n",
       "       'original_title', 'overview', 'popularity', 'production_companies',\n",
       "       'production_countries', 'release_date', 'revenue', 'runtime',\n",
       "       'spoken_languages', 'status', 'tagline', 'title_x', 'vote_average',\n",
       "       'vote_count', 'movie_id', 'title_y', 'cast', 'crew', 'major_cast',\n",
       "       'director', 'keys_words', 'genres_list'],\n",
       "      dtype='object')"
      ]
     },
     "execution_count": 32,
     "metadata": {},
     "output_type": "execute_result"
    }
   ],
   "source": [
    "movies.columns"
   ]
  },
  {
   "cell_type": "code",
   "execution_count": 33,
   "metadata": {
    "scrolled": true
   },
   "outputs": [
    {
     "data": {
      "text/html": [
       "<div>\n",
       "<style scoped>\n",
       "    .dataframe tbody tr th:only-of-type {\n",
       "        vertical-align: middle;\n",
       "    }\n",
       "\n",
       "    .dataframe tbody tr th {\n",
       "        vertical-align: top;\n",
       "    }\n",
       "\n",
       "    .dataframe thead th {\n",
       "        text-align: right;\n",
       "    }\n",
       "</style>\n",
       "<table border=\"1\" class=\"dataframe\">\n",
       "  <thead>\n",
       "    <tr style=\"text-align: right;\">\n",
       "      <th></th>\n",
       "      <th>budget</th>\n",
       "      <th>genres</th>\n",
       "      <th>homepage</th>\n",
       "      <th>id</th>\n",
       "      <th>keywords</th>\n",
       "      <th>original_language</th>\n",
       "      <th>original_title</th>\n",
       "      <th>overview</th>\n",
       "      <th>popularity</th>\n",
       "      <th>production_companies</th>\n",
       "      <th>...</th>\n",
       "      <th>vote_average</th>\n",
       "      <th>vote_count</th>\n",
       "      <th>movie_id</th>\n",
       "      <th>title_y</th>\n",
       "      <th>cast</th>\n",
       "      <th>crew</th>\n",
       "      <th>major_cast</th>\n",
       "      <th>director</th>\n",
       "      <th>keys_words</th>\n",
       "      <th>genres_list</th>\n",
       "    </tr>\n",
       "  </thead>\n",
       "  <tbody>\n",
       "    <tr>\n",
       "      <th>0</th>\n",
       "      <td>237000000</td>\n",
       "      <td>[{'id': 28, 'name': 'Action'}, {'id': 12, 'nam...</td>\n",
       "      <td>http://www.avatarmovie.com/</td>\n",
       "      <td>19995</td>\n",
       "      <td>[{'id': 1463, 'name': 'culture clash'}, {'id':...</td>\n",
       "      <td>en</td>\n",
       "      <td>Avatar</td>\n",
       "      <td>In the 22nd century, a paraplegic Marine is di...</td>\n",
       "      <td>150.437577</td>\n",
       "      <td>[{\"name\": \"Ingenious Film Partners\", \"id\": 289...</td>\n",
       "      <td>...</td>\n",
       "      <td>7.2</td>\n",
       "      <td>11800</td>\n",
       "      <td>19995</td>\n",
       "      <td>Avatar</td>\n",
       "      <td>[{'cast_id': 242, 'character': 'Jake Sully', '...</td>\n",
       "      <td>[{'credit_id': '52fe48009251416c750aca23', 'de...</td>\n",
       "      <td>Jake Sully,Neytiri,Dr. Grace Augustine,Col. Qu...</td>\n",
       "      <td>James Cameron</td>\n",
       "      <td>culture clash,future,space war,space colony,so...</td>\n",
       "      <td>Action,Adventure,Fantasy,Science Fiction</td>\n",
       "    </tr>\n",
       "    <tr>\n",
       "      <th>1</th>\n",
       "      <td>300000000</td>\n",
       "      <td>[{'id': 12, 'name': 'Adventure'}, {'id': 14, '...</td>\n",
       "      <td>http://disney.go.com/disneypictures/pirates/</td>\n",
       "      <td>285</td>\n",
       "      <td>[{'id': 270, 'name': 'ocean'}, {'id': 726, 'na...</td>\n",
       "      <td>en</td>\n",
       "      <td>Pirates of the Caribbean: At World's End</td>\n",
       "      <td>Captain Barbossa, long believed to be dead, ha...</td>\n",
       "      <td>139.082615</td>\n",
       "      <td>[{\"name\": \"Walt Disney Pictures\", \"id\": 2}, {\"...</td>\n",
       "      <td>...</td>\n",
       "      <td>6.9</td>\n",
       "      <td>4500</td>\n",
       "      <td>285</td>\n",
       "      <td>Pirates of the Caribbean: At World's End</td>\n",
       "      <td>[{'cast_id': 4, 'character': 'Captain Jack Spa...</td>\n",
       "      <td>[{'credit_id': '52fe4232c3a36847f800b579', 'de...</td>\n",
       "      <td>Captain Jack Sparrow,Will Turner,Elizabeth Swa...</td>\n",
       "      <td>Gore Verbinski</td>\n",
       "      <td>ocean,drug abuse,exotic island,east india trad...</td>\n",
       "      <td>Adventure,Fantasy,Action</td>\n",
       "    </tr>\n",
       "    <tr>\n",
       "      <th>2</th>\n",
       "      <td>245000000</td>\n",
       "      <td>[{'id': 28, 'name': 'Action'}, {'id': 12, 'nam...</td>\n",
       "      <td>http://www.sonypictures.com/movies/spectre/</td>\n",
       "      <td>206647</td>\n",
       "      <td>[{'id': 470, 'name': 'spy'}, {'id': 818, 'name...</td>\n",
       "      <td>en</td>\n",
       "      <td>Spectre</td>\n",
       "      <td>A cryptic message from Bond’s past sends him o...</td>\n",
       "      <td>107.376788</td>\n",
       "      <td>[{\"name\": \"Columbia Pictures\", \"id\": 5}, {\"nam...</td>\n",
       "      <td>...</td>\n",
       "      <td>6.3</td>\n",
       "      <td>4466</td>\n",
       "      <td>206647</td>\n",
       "      <td>Spectre</td>\n",
       "      <td>[{'cast_id': 1, 'character': 'James Bond', 'cr...</td>\n",
       "      <td>[{'credit_id': '54805967c3a36829b5002c41', 'de...</td>\n",
       "      <td>James Bond,Blofeld,Madeleine,M</td>\n",
       "      <td>Sam Mendes</td>\n",
       "      <td>spy,based on novel,secret agent,sequel,mi6,bri...</td>\n",
       "      <td>Action,Adventure,Crime</td>\n",
       "    </tr>\n",
       "    <tr>\n",
       "      <th>3</th>\n",
       "      <td>250000000</td>\n",
       "      <td>[{'id': 28, 'name': 'Action'}, {'id': 80, 'nam...</td>\n",
       "      <td>http://www.thedarkknightrises.com/</td>\n",
       "      <td>49026</td>\n",
       "      <td>[{'id': 849, 'name': 'dc comics'}, {'id': 853,...</td>\n",
       "      <td>en</td>\n",
       "      <td>The Dark Knight Rises</td>\n",
       "      <td>Following the death of District Attorney Harve...</td>\n",
       "      <td>112.312950</td>\n",
       "      <td>[{\"name\": \"Legendary Pictures\", \"id\": 923}, {\"...</td>\n",
       "      <td>...</td>\n",
       "      <td>7.6</td>\n",
       "      <td>9106</td>\n",
       "      <td>49026</td>\n",
       "      <td>The Dark Knight Rises</td>\n",
       "      <td>[{'cast_id': 2, 'character': 'Bruce Wayne / Ba...</td>\n",
       "      <td>[{'credit_id': '52fe4781c3a36847f81398c3', 'de...</td>\n",
       "      <td>Bruce Wayne / Batman,Alfred Pennyworth,James G...</td>\n",
       "      <td>Christopher Nolan</td>\n",
       "      <td>dc comics,crime fighter,terrorist,secret ident...</td>\n",
       "      <td>Action,Crime,Drama,Thriller</td>\n",
       "    </tr>\n",
       "    <tr>\n",
       "      <th>4</th>\n",
       "      <td>260000000</td>\n",
       "      <td>[{'id': 28, 'name': 'Action'}, {'id': 12, 'nam...</td>\n",
       "      <td>http://movies.disney.com/john-carter</td>\n",
       "      <td>49529</td>\n",
       "      <td>[{'id': 818, 'name': 'based on novel'}, {'id':...</td>\n",
       "      <td>en</td>\n",
       "      <td>John Carter</td>\n",
       "      <td>John Carter is a war-weary, former military ca...</td>\n",
       "      <td>43.926995</td>\n",
       "      <td>[{\"name\": \"Walt Disney Pictures\", \"id\": 2}]</td>\n",
       "      <td>...</td>\n",
       "      <td>6.1</td>\n",
       "      <td>2124</td>\n",
       "      <td>49529</td>\n",
       "      <td>John Carter</td>\n",
       "      <td>[{'cast_id': 5, 'character': 'John Carter', 'c...</td>\n",
       "      <td>[{'credit_id': '52fe479ac3a36847f813eaa3', 'de...</td>\n",
       "      <td>John Carter,Dejah Thoris,Sola,Tars Tarkas</td>\n",
       "      <td>Andrew Stanton</td>\n",
       "      <td>based on novel,mars,medallion,space travel,pri...</td>\n",
       "      <td>Action,Adventure,Science Fiction</td>\n",
       "    </tr>\n",
       "  </tbody>\n",
       "</table>\n",
       "<p>5 rows × 28 columns</p>\n",
       "</div>"
      ],
      "text/plain": [
       "      budget                                             genres  \\\n",
       "0  237000000  [{'id': 28, 'name': 'Action'}, {'id': 12, 'nam...   \n",
       "1  300000000  [{'id': 12, 'name': 'Adventure'}, {'id': 14, '...   \n",
       "2  245000000  [{'id': 28, 'name': 'Action'}, {'id': 12, 'nam...   \n",
       "3  250000000  [{'id': 28, 'name': 'Action'}, {'id': 80, 'nam...   \n",
       "4  260000000  [{'id': 28, 'name': 'Action'}, {'id': 12, 'nam...   \n",
       "\n",
       "                                       homepage      id  \\\n",
       "0                   http://www.avatarmovie.com/   19995   \n",
       "1  http://disney.go.com/disneypictures/pirates/     285   \n",
       "2   http://www.sonypictures.com/movies/spectre/  206647   \n",
       "3            http://www.thedarkknightrises.com/   49026   \n",
       "4          http://movies.disney.com/john-carter   49529   \n",
       "\n",
       "                                            keywords original_language  \\\n",
       "0  [{'id': 1463, 'name': 'culture clash'}, {'id':...                en   \n",
       "1  [{'id': 270, 'name': 'ocean'}, {'id': 726, 'na...                en   \n",
       "2  [{'id': 470, 'name': 'spy'}, {'id': 818, 'name...                en   \n",
       "3  [{'id': 849, 'name': 'dc comics'}, {'id': 853,...                en   \n",
       "4  [{'id': 818, 'name': 'based on novel'}, {'id':...                en   \n",
       "\n",
       "                             original_title  \\\n",
       "0                                    Avatar   \n",
       "1  Pirates of the Caribbean: At World's End   \n",
       "2                                   Spectre   \n",
       "3                     The Dark Knight Rises   \n",
       "4                               John Carter   \n",
       "\n",
       "                                            overview  popularity  \\\n",
       "0  In the 22nd century, a paraplegic Marine is di...  150.437577   \n",
       "1  Captain Barbossa, long believed to be dead, ha...  139.082615   \n",
       "2  A cryptic message from Bond’s past sends him o...  107.376788   \n",
       "3  Following the death of District Attorney Harve...  112.312950   \n",
       "4  John Carter is a war-weary, former military ca...   43.926995   \n",
       "\n",
       "                                production_companies  \\\n",
       "0  [{\"name\": \"Ingenious Film Partners\", \"id\": 289...   \n",
       "1  [{\"name\": \"Walt Disney Pictures\", \"id\": 2}, {\"...   \n",
       "2  [{\"name\": \"Columbia Pictures\", \"id\": 5}, {\"nam...   \n",
       "3  [{\"name\": \"Legendary Pictures\", \"id\": 923}, {\"...   \n",
       "4        [{\"name\": \"Walt Disney Pictures\", \"id\": 2}]   \n",
       "\n",
       "                     ...                    vote_average vote_count  movie_id  \\\n",
       "0                    ...                             7.2      11800     19995   \n",
       "1                    ...                             6.9       4500       285   \n",
       "2                    ...                             6.3       4466    206647   \n",
       "3                    ...                             7.6       9106     49026   \n",
       "4                    ...                             6.1       2124     49529   \n",
       "\n",
       "                                    title_y  \\\n",
       "0                                    Avatar   \n",
       "1  Pirates of the Caribbean: At World's End   \n",
       "2                                   Spectre   \n",
       "3                     The Dark Knight Rises   \n",
       "4                               John Carter   \n",
       "\n",
       "                                                cast  \\\n",
       "0  [{'cast_id': 242, 'character': 'Jake Sully', '...   \n",
       "1  [{'cast_id': 4, 'character': 'Captain Jack Spa...   \n",
       "2  [{'cast_id': 1, 'character': 'James Bond', 'cr...   \n",
       "3  [{'cast_id': 2, 'character': 'Bruce Wayne / Ba...   \n",
       "4  [{'cast_id': 5, 'character': 'John Carter', 'c...   \n",
       "\n",
       "                                                crew  \\\n",
       "0  [{'credit_id': '52fe48009251416c750aca23', 'de...   \n",
       "1  [{'credit_id': '52fe4232c3a36847f800b579', 'de...   \n",
       "2  [{'credit_id': '54805967c3a36829b5002c41', 'de...   \n",
       "3  [{'credit_id': '52fe4781c3a36847f81398c3', 'de...   \n",
       "4  [{'credit_id': '52fe479ac3a36847f813eaa3', 'de...   \n",
       "\n",
       "                                          major_cast           director  \\\n",
       "0  Jake Sully,Neytiri,Dr. Grace Augustine,Col. Qu...      James Cameron   \n",
       "1  Captain Jack Sparrow,Will Turner,Elizabeth Swa...     Gore Verbinski   \n",
       "2                     James Bond,Blofeld,Madeleine,M         Sam Mendes   \n",
       "3  Bruce Wayne / Batman,Alfred Pennyworth,James G...  Christopher Nolan   \n",
       "4          John Carter,Dejah Thoris,Sola,Tars Tarkas     Andrew Stanton   \n",
       "\n",
       "                                          keys_words  \\\n",
       "0  culture clash,future,space war,space colony,so...   \n",
       "1  ocean,drug abuse,exotic island,east india trad...   \n",
       "2  spy,based on novel,secret agent,sequel,mi6,bri...   \n",
       "3  dc comics,crime fighter,terrorist,secret ident...   \n",
       "4  based on novel,mars,medallion,space travel,pri...   \n",
       "\n",
       "                                genres_list  \n",
       "0  Action,Adventure,Fantasy,Science Fiction  \n",
       "1                  Adventure,Fantasy,Action  \n",
       "2                    Action,Adventure,Crime  \n",
       "3               Action,Crime,Drama,Thriller  \n",
       "4          Action,Adventure,Science Fiction  \n",
       "\n",
       "[5 rows x 28 columns]"
      ]
     },
     "execution_count": 33,
     "metadata": {},
     "output_type": "execute_result"
    }
   ],
   "source": [
    "movies.head()"
   ]
  },
  {
   "cell_type": "code",
   "execution_count": 34,
   "metadata": {},
   "outputs": [],
   "source": [
    "demo_movie = movies[['movie_id','title_y','major_cast','crew','vote_average','vote_count']]"
   ]
  },
  {
   "cell_type": "code",
   "execution_count": 35,
   "metadata": {},
   "outputs": [],
   "source": [
    "C = demo_movie['vote_average'].mean()"
   ]
  },
  {
   "cell_type": "code",
   "execution_count": 36,
   "metadata": {},
   "outputs": [
    {
     "data": {
      "text/plain": [
       "6.092171559442011"
      ]
     },
     "execution_count": 36,
     "metadata": {},
     "output_type": "execute_result"
    }
   ],
   "source": [
    "C"
   ]
  },
  {
   "cell_type": "markdown",
   "metadata": {},
   "source": [
    "Since m is the minimum votes required to be listed in the chart, we require that movies that can at least earn 95% vote counts to be in the chart."
   ]
  },
  {
   "cell_type": "code",
   "execution_count": 37,
   "metadata": {},
   "outputs": [],
   "source": [
    "m = demo_movie['vote_count'].quantile(0.95)"
   ]
  },
  {
   "cell_type": "code",
   "execution_count": 38,
   "metadata": {},
   "outputs": [
    {
     "data": {
      "text/plain": [
       "3040.8999999999996"
      ]
     },
     "execution_count": 38,
     "metadata": {},
     "output_type": "execute_result"
    }
   ],
   "source": [
    "m"
   ]
  },
  {
   "cell_type": "code",
   "execution_count": 39,
   "metadata": {},
   "outputs": [],
   "source": [
    "demo_movie_filtered = demo_movie.copy().loc[demo_movie['vote_count'] >= m]"
   ]
  },
  {
   "cell_type": "code",
   "execution_count": 40,
   "metadata": {},
   "outputs": [],
   "source": [
    "def weighted_rating(df = demo_movie_filtered, m=m, C=C):\n",
    "    v = df['vote_count']\n",
    "    R = df['vote_average']\n",
    "    return (v/(v+m) * R) + (m/(m+v) * C)"
   ]
  },
  {
   "cell_type": "code",
   "execution_count": 41,
   "metadata": {},
   "outputs": [],
   "source": [
    "demo_movie_filtered['weighted_rating'] = demo_movie_filtered.apply(weighted_rating,axis=1)"
   ]
  },
  {
   "cell_type": "code",
   "execution_count": 42,
   "metadata": {},
   "outputs": [
    {
     "data": {
      "text/html": [
       "<div>\n",
       "<style scoped>\n",
       "    .dataframe tbody tr th:only-of-type {\n",
       "        vertical-align: middle;\n",
       "    }\n",
       "\n",
       "    .dataframe tbody tr th {\n",
       "        vertical-align: top;\n",
       "    }\n",
       "\n",
       "    .dataframe thead th {\n",
       "        text-align: right;\n",
       "    }\n",
       "</style>\n",
       "<table border=\"1\" class=\"dataframe\">\n",
       "  <thead>\n",
       "    <tr style=\"text-align: right;\">\n",
       "      <th></th>\n",
       "      <th>movie_id</th>\n",
       "      <th>title_y</th>\n",
       "      <th>major_cast</th>\n",
       "      <th>crew</th>\n",
       "      <th>vote_average</th>\n",
       "      <th>vote_count</th>\n",
       "      <th>weighted_rating</th>\n",
       "    </tr>\n",
       "  </thead>\n",
       "  <tbody>\n",
       "    <tr>\n",
       "      <th>1881</th>\n",
       "      <td>278</td>\n",
       "      <td>The Shawshank Redemption</td>\n",
       "      <td>Andy Dufresne,Ellis Boyd 'Red' Redding,Warden ...</td>\n",
       "      <td>[{'credit_id': '52fe4231c3a36847f800b153', 'de...</td>\n",
       "      <td>8.5</td>\n",
       "      <td>8205</td>\n",
       "      <td>7.848921</td>\n",
       "    </tr>\n",
       "    <tr>\n",
       "      <th>65</th>\n",
       "      <td>155</td>\n",
       "      <td>The Dark Knight</td>\n",
       "      <td>Bruce Wayne,Joker,Harvey Dent,Alfred</td>\n",
       "      <td>[{'credit_id': '55a0eb4a925141296b0010f8', 'de...</td>\n",
       "      <td>8.2</td>\n",
       "      <td>12002</td>\n",
       "      <td>7.773906</td>\n",
       "    </tr>\n",
       "    <tr>\n",
       "      <th>662</th>\n",
       "      <td>550</td>\n",
       "      <td>Fight Club</td>\n",
       "      <td>The Narrator,Tyler Durden,Robert 'Bob' Paulson...</td>\n",
       "      <td>[{'credit_id': '55731b8192514111610027d7', 'de...</td>\n",
       "      <td>8.3</td>\n",
       "      <td>9413</td>\n",
       "      <td>7.760909</td>\n",
       "    </tr>\n",
       "    <tr>\n",
       "      <th>96</th>\n",
       "      <td>27205</td>\n",
       "      <td>Inception</td>\n",
       "      <td>Dom Cobb,Arthur,Ariadne,Eames</td>\n",
       "      <td>[{'credit_id': '56e8462cc3a368408400354c', 'de...</td>\n",
       "      <td>8.1</td>\n",
       "      <td>13752</td>\n",
       "      <td>7.736417</td>\n",
       "    </tr>\n",
       "    <tr>\n",
       "      <th>3232</th>\n",
       "      <td>680</td>\n",
       "      <td>Pulp Fiction</td>\n",
       "      <td>Vincent Vega,Jules Winfield,Mia Wallace,Butch ...</td>\n",
       "      <td>[{'credit_id': '52fe4269c3a36847f801caa3', 'de...</td>\n",
       "      <td>8.3</td>\n",
       "      <td>8428</td>\n",
       "      <td>7.714609</td>\n",
       "    </tr>\n",
       "  </tbody>\n",
       "</table>\n",
       "</div>"
      ],
      "text/plain": [
       "      movie_id                   title_y  \\\n",
       "1881       278  The Shawshank Redemption   \n",
       "65         155           The Dark Knight   \n",
       "662        550                Fight Club   \n",
       "96       27205                 Inception   \n",
       "3232       680              Pulp Fiction   \n",
       "\n",
       "                                             major_cast  \\\n",
       "1881  Andy Dufresne,Ellis Boyd 'Red' Redding,Warden ...   \n",
       "65                 Bruce Wayne,Joker,Harvey Dent,Alfred   \n",
       "662   The Narrator,Tyler Durden,Robert 'Bob' Paulson...   \n",
       "96                        Dom Cobb,Arthur,Ariadne,Eames   \n",
       "3232  Vincent Vega,Jules Winfield,Mia Wallace,Butch ...   \n",
       "\n",
       "                                                   crew  vote_average  \\\n",
       "1881  [{'credit_id': '52fe4231c3a36847f800b153', 'de...           8.5   \n",
       "65    [{'credit_id': '55a0eb4a925141296b0010f8', 'de...           8.2   \n",
       "662   [{'credit_id': '55731b8192514111610027d7', 'de...           8.3   \n",
       "96    [{'credit_id': '56e8462cc3a368408400354c', 'de...           8.1   \n",
       "3232  [{'credit_id': '52fe4269c3a36847f801caa3', 'de...           8.3   \n",
       "\n",
       "      vote_count  weighted_rating  \n",
       "1881        8205         7.848921  \n",
       "65         12002         7.773906  \n",
       "662         9413         7.760909  \n",
       "96         13752         7.736417  \n",
       "3232        8428         7.714609  "
      ]
     },
     "execution_count": 42,
     "metadata": {},
     "output_type": "execute_result"
    }
   ],
   "source": [
    "demo_movie_filtered.sort_values('weighted_rating', ascending=False).head()"
   ]
  },
  {
   "cell_type": "code",
   "execution_count": 43,
   "metadata": {},
   "outputs": [
    {
     "data": {
      "text/plain": [
       "1881    The Shawshank Redemption\n",
       "65               The Dark Knight\n",
       "662                   Fight Club\n",
       "96                     Inception\n",
       "3232                Pulp Fiction\n",
       "Name: title_y, dtype: object"
      ]
     },
     "execution_count": 43,
     "metadata": {},
     "output_type": "execute_result"
    }
   ],
   "source": [
    "demo_movie_filtered.sort_values('weighted_rating', ascending=False)['title_y'].head()"
   ]
  },
  {
   "cell_type": "markdown",
   "metadata": {},
   "source": [
    "# Recommendation System #3- Collaborative Filtering "
   ]
  },
  {
   "cell_type": "code",
   "execution_count": 44,
   "metadata": {},
   "outputs": [],
   "source": [
    "from surprise import Reader, Dataset, SVD, evaluate\n",
    "from surprise import SVDpp\n",
    "from surprise import model_selection\n",
    "from surprise.model_selection import cross_validate, GridSearchCV"
   ]
  },
  {
   "cell_type": "code",
   "execution_count": 45,
   "metadata": {},
   "outputs": [
    {
     "name": "stderr",
     "output_type": "stream",
     "text": [
      "C:\\Users\\cheny\\Downloads\\ANACONDA\\lib\\site-packages\\IPython\\core\\interactiveshell.py:2785: DtypeWarning: Columns (10) have mixed types. Specify dtype option on import or set low_memory=False.\n",
      "  interactivity=interactivity, compiler=compiler, result=result)\n"
     ]
    }
   ],
   "source": [
    "meta_data_movie = pd.read_csv('movies_metadata.csv')"
   ]
  },
  {
   "cell_type": "code",
   "execution_count": 46,
   "metadata": {},
   "outputs": [
    {
     "data": {
      "text/plain": [
       "adult                                                                False\n",
       "belongs_to_collection    {'id': 10194, 'name': 'Toy Story Collection', ...\n",
       "budget                                                            30000000\n",
       "genres                   [{'id': 16, 'name': 'Animation'}, {'id': 35, '...\n",
       "homepage                              http://toystory.disney.com/toy-story\n",
       "id                                                                     862\n",
       "imdb_id                                                          tt0114709\n",
       "original_language                                                       en\n",
       "original_title                                                   Toy Story\n",
       "overview                 Led by Woody, Andy's toys live happily in his ...\n",
       "popularity                                                         21.9469\n",
       "poster_path                               /rhIRbceoE9lR4veEXuwCC2wARtG.jpg\n",
       "production_companies        [{'name': 'Pixar Animation Studios', 'id': 3}]\n",
       "production_countries     [{'iso_3166_1': 'US', 'name': 'United States o...\n",
       "release_date                                                    1995-10-30\n",
       "revenue                                                        3.73554e+08\n",
       "runtime                                                                 81\n",
       "spoken_languages                  [{'iso_639_1': 'en', 'name': 'English'}]\n",
       "status                                                            Released\n",
       "tagline                                                                NaN\n",
       "title                                                            Toy Story\n",
       "video                                                                False\n",
       "vote_average                                                           7.7\n",
       "vote_count                                                            5415\n",
       "Name: 0, dtype: object"
      ]
     },
     "execution_count": 46,
     "metadata": {},
     "output_type": "execute_result"
    }
   ],
   "source": [
    "meta_data_movie.loc[0]"
   ]
  },
  {
   "cell_type": "code",
   "execution_count": 47,
   "metadata": {},
   "outputs": [],
   "source": [
    "ratings = pd.read_csv(\"ratings_small.csv\")"
   ]
  },
  {
   "cell_type": "code",
   "execution_count": 48,
   "metadata": {},
   "outputs": [
    {
     "data": {
      "text/html": [
       "<div>\n",
       "<style scoped>\n",
       "    .dataframe tbody tr th:only-of-type {\n",
       "        vertical-align: middle;\n",
       "    }\n",
       "\n",
       "    .dataframe tbody tr th {\n",
       "        vertical-align: top;\n",
       "    }\n",
       "\n",
       "    .dataframe thead th {\n",
       "        text-align: right;\n",
       "    }\n",
       "</style>\n",
       "<table border=\"1\" class=\"dataframe\">\n",
       "  <thead>\n",
       "    <tr style=\"text-align: right;\">\n",
       "      <th></th>\n",
       "      <th>userId</th>\n",
       "      <th>movieId</th>\n",
       "      <th>rating</th>\n",
       "      <th>timestamp</th>\n",
       "    </tr>\n",
       "  </thead>\n",
       "  <tbody>\n",
       "    <tr>\n",
       "      <th>0</th>\n",
       "      <td>1</td>\n",
       "      <td>31</td>\n",
       "      <td>2.5</td>\n",
       "      <td>1260759144</td>\n",
       "    </tr>\n",
       "    <tr>\n",
       "      <th>1</th>\n",
       "      <td>1</td>\n",
       "      <td>1029</td>\n",
       "      <td>3.0</td>\n",
       "      <td>1260759179</td>\n",
       "    </tr>\n",
       "    <tr>\n",
       "      <th>2</th>\n",
       "      <td>1</td>\n",
       "      <td>1061</td>\n",
       "      <td>3.0</td>\n",
       "      <td>1260759182</td>\n",
       "    </tr>\n",
       "    <tr>\n",
       "      <th>3</th>\n",
       "      <td>1</td>\n",
       "      <td>1129</td>\n",
       "      <td>2.0</td>\n",
       "      <td>1260759185</td>\n",
       "    </tr>\n",
       "    <tr>\n",
       "      <th>4</th>\n",
       "      <td>1</td>\n",
       "      <td>1172</td>\n",
       "      <td>4.0</td>\n",
       "      <td>1260759205</td>\n",
       "    </tr>\n",
       "  </tbody>\n",
       "</table>\n",
       "</div>"
      ],
      "text/plain": [
       "   userId  movieId  rating   timestamp\n",
       "0       1       31     2.5  1260759144\n",
       "1       1     1029     3.0  1260759179\n",
       "2       1     1061     3.0  1260759182\n",
       "3       1     1129     2.0  1260759185\n",
       "4       1     1172     4.0  1260759205"
      ]
     },
     "execution_count": 48,
     "metadata": {},
     "output_type": "execute_result"
    }
   ],
   "source": [
    "ratings.head()"
   ]
  },
  {
   "cell_type": "code",
   "execution_count": 49,
   "metadata": {},
   "outputs": [],
   "source": [
    "ratings = ratings.dropna()"
   ]
  },
  {
   "cell_type": "code",
   "execution_count": 50,
   "metadata": {},
   "outputs": [],
   "source": [
    "#movies = movies.drop(['movie_id', 'title_x','title_y'], axis=1)"
   ]
  },
  {
   "cell_type": "code",
   "execution_count": 51,
   "metadata": {},
   "outputs": [
    {
     "name": "stderr",
     "output_type": "stream",
     "text": [
      "C:\\Users\\cheny\\Downloads\\ANACONDA\\lib\\site-packages\\surprise\\evaluate.py:66: UserWarning: The evaluate() method is deprecated. Please use model_selection.cross_validate() instead.\n",
      "  'model_selection.cross_validate() instead.', UserWarning)\n",
      "C:\\Users\\cheny\\Downloads\\ANACONDA\\lib\\site-packages\\surprise\\dataset.py:193: UserWarning: Using data.split() or using load_from_folds() without using a CV iterator is now deprecated. \n",
      "  UserWarning)\n"
     ]
    },
    {
     "name": "stdout",
     "output_type": "stream",
     "text": [
      "Evaluating RMSE, MAE of algorithm SVD.\n",
      "\n",
      "------------\n",
      "Fold 1\n",
      "RMSE: 0.8950\n",
      "MAE:  0.6897\n",
      "------------\n",
      "Fold 2\n",
      "RMSE: 0.8962\n",
      "MAE:  0.6904\n",
      "------------\n",
      "Fold 3\n",
      "RMSE: 0.9017\n",
      "MAE:  0.6929\n",
      "------------\n",
      "Fold 4\n",
      "RMSE: 0.9013\n",
      "MAE:  0.6932\n",
      "------------\n",
      "Fold 5\n",
      "RMSE: 0.8981\n",
      "MAE:  0.6927\n",
      "------------\n",
      "------------\n",
      "Mean RMSE: 0.8984\n",
      "Mean MAE : 0.6918\n",
      "------------\n",
      "------------\n"
     ]
    },
    {
     "data": {
      "text/plain": [
       "CaseInsensitiveDefaultDict(list,\n",
       "                           {'rmse': [0.8949552732452307,\n",
       "                             0.8961707532417714,\n",
       "                             0.9016665751207277,\n",
       "                             0.9012953251882037,\n",
       "                             0.8981081357947365],\n",
       "                            'mae': [0.6897381847177811,\n",
       "                             0.6903791099552992,\n",
       "                             0.6928633097107469,\n",
       "                             0.6931997188641745,\n",
       "                             0.6927304184543744]})"
      ]
     },
     "execution_count": 51,
     "metadata": {},
     "output_type": "execute_result"
    }
   ],
   "source": [
    "reader=Reader()\n",
    "data_cf = Dataset.load_from_df(ratings[['userId','movieId','rating']], reader)\n",
    "data_cf.split(n_folds=5)\n",
    "svd = SVD()\n",
    "evaluate(svd, data_cf, measures=['RMSE', 'MAE'])"
   ]
  },
  {
   "cell_type": "code",
   "execution_count": 52,
   "metadata": {},
   "outputs": [
    {
     "data": {
      "text/plain": [
       "<surprise.prediction_algorithms.matrix_factorization.SVD at 0x1d545713588>"
      ]
     },
     "execution_count": 52,
     "metadata": {},
     "output_type": "execute_result"
    }
   ],
   "source": [
    "trainset = data_cf.build_full_trainset()\n",
    "svd.fit(trainset)"
   ]
  },
  {
   "cell_type": "markdown",
   "metadata": {},
   "source": [
    "# Data Processing Part 2: Construct a dataframe to convert movieId, tmdbId, and movie titles "
   ]
  },
  {
   "cell_type": "code",
   "execution_count": 53,
   "metadata": {},
   "outputs": [],
   "source": [
    "link_small = pd.read_csv(\"links_small.csv\")\n",
    "\n",
    "link_small = link_small.dropna()\n",
    "\n",
    "link_small['tmdbId'] = link_small['tmdbId'].apply(lambda x: int(x)) \n",
    "\n",
    "link_small.head()\n",
    "\n",
    "ratings['movieId'] = ratings['movieId'].apply(lambda x:int(x))\n",
    "link_small['movieId'] = link_small['movieId'].apply(lambda x:int(x))\n",
    "\n",
    "ratings = ratings[ratings['movieId'].isin(link_small['movieId'])]\n",
    "\n",
    "movie_id = pd.DataFrame(ratings['movieId']).drop_duplicates()\n",
    "\n",
    "tmdb_list = movie_id['movieId'].apply(lambda x: link_small.loc[link_small['movieId']==x,'tmdbId'].values[0])\n",
    "\n",
    "movie_id['tmdbId']=tmdb_list\n",
    "\n",
    "movie_id.head()\n",
    "\n",
    "movie_temp = meta_data_movie.drop_duplicates()\n",
    "movie_temp.head()\n",
    "\n",
    "movie_id = movie_id[movie_id['tmdbId'].apply(lambda x:str(x)).isin(movie_temp['id'])]\n",
    "\n",
    "movie_id['name'] = movie_id['tmdbId'].apply(lambda x: movie_temp.loc[movie_temp['id']==str(x),'original_title'].values[0])\n",
    "\n",
    "movie_id.head()\n",
    "\n",
    "ratings = ratings[ratings['movieId'].isin(movie_id['movieId'])]"
   ]
  },
  {
   "cell_type": "code",
   "execution_count": 54,
   "metadata": {},
   "outputs": [],
   "source": [
    "def cf(userid,num):\n",
    "    #movieid = movies.loc[movies['original_title']==item,\"id\"]\n",
    "    if num>10: return print(\"Sorry, no more than movies\")\n",
    "    else:\n",
    "        score_df = movie_id.copy()\n",
    "        predict_score = movie_id['movieId'].apply(lambda x:svd.predict(userid,x).est)\n",
    "        score_df['score']=predict_score\n",
    "        score_df = score_df.sort_values(by='score',ascending = False)\n",
    "        return print(\"Your recommended movies are: \", score_df.head(num)['name'].values)"
   ]
  },
  {
   "cell_type": "code",
   "execution_count": 55,
   "metadata": {},
   "outputs": [
    {
     "name": "stdout",
     "output_type": "stream",
     "text": [
      "Your recommended movies are:  ['The Shawshank Redemption' 'The Godfather' 'The African Queen'\n",
      " 'All About Eve' 'The Godfather: Part II' 'It Happened One Night'\n",
      " 'Cidade de Deus' 'The Usual Suspects' 'Modern Times' 'Roger & Me']\n"
     ]
    }
   ],
   "source": [
    "cf('tt0113041',10)"
   ]
  },
  {
   "cell_type": "markdown",
   "metadata": {},
   "source": [
    "# Recommendation System #4 - Hybrid Recommendation System"
   ]
  },
  {
   "cell_type": "code",
   "execution_count": 56,
   "metadata": {},
   "outputs": [],
   "source": [
    "def cf_rec(userid,title,num):\n",
    "    if num >10: return print(\"Sorry, no more than 10 movies\")\n",
    "    else:\n",
    "        i = int(movie_id[movie_id['name']==title].index.values)\n",
    "        sim_scores = sorted(list(enumerate(cosine_sim[i])),key=lambda x: x[1],reverse = True)\n",
    "            # get the first 10 scores\n",
    "        sim_scores = sim_scores[1:30]\n",
    "        recommend_i = [i[0] for i in sim_scores]\n",
    "        new_movie_set = movie_id.iloc[recommend_i]\n",
    "        score_df = movie_id.copy()\n",
    "        predict_score = new_movie_set['movieId'].apply(lambda x:svd.predict(userid,x).est)\n",
    "        score_df['score']=predict_score\n",
    "        score_df = score_df.sort_values(by='score',ascending = False)\n",
    "        return print(\"Your recommended movies are: \", score_df.head(num)['name'].values)\n"
   ]
  },
  {
   "cell_type": "code",
   "execution_count": 57,
   "metadata": {},
   "outputs": [
    {
     "name": "stdout",
     "output_type": "stream",
     "text": [
      "Your recommended movies are:  ['Moon' '卧虎藏龙' 'Drugstore Cowboy' 'Out of Africa' '22 Jump Street'\n",
      " 'Viridiana' 'Dancer in the Dark']\n"
     ]
    }
   ],
   "source": [
    "cf_rec('tt0113041','Avatar',7)"
   ]
  },
  {
   "cell_type": "markdown",
   "metadata": {},
   "source": [
    "# Conclusion"
   ]
  },
  {
   "cell_type": "markdown",
   "metadata": {},
   "source": [
    "Even content-based filtering recommendation system is a good solution to address the cold-start problem, it has a limitation in predicting movies across the genres. In addition, it cannot capture users’ personal taste and favors. It will always return the same recommendation result no matter who the users are, as long as they enter the same favorite movie as the input for the engine. \n",
    "\n",
    "Collaborative-filtering recommendation system based on Singular Value Decomposition algorithm can resolve this problem by capturing the similarities between both users and movies. \n",
    "\n",
    "\n",
    "Hybrid recommendation system combines ideas from both content-based and collaborative filtering algorithms to predict expected scores of the similar movies that a particular user likes. \n"
   ]
  }
 ],
 "metadata": {
  "kernelspec": {
   "display_name": "Python 3",
   "language": "python",
   "name": "python3"
  },
  "language_info": {
   "codemirror_mode": {
    "name": "ipython",
    "version": 3
   },
   "file_extension": ".py",
   "mimetype": "text/x-python",
   "name": "python",
   "nbconvert_exporter": "python",
   "pygments_lexer": "ipython3",
   "version": "3.6.5"
  }
 },
 "nbformat": 4,
 "nbformat_minor": 2
}
